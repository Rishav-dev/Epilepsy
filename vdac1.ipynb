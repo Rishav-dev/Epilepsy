{
 "cells": [
  {
   "cell_type": "code",
   "execution_count": null,
   "metadata": {
    "vscode": {
     "languageId": "r"
    }
   },
   "outputs": [],
   "source": [
    "library(plotly)\n",
    "library(ggplot2)\n",
    "library(openxlsx)\n",
    "library(EnhancedVolcano)\n",
    "library(svglite)\n",
    "library(tidyverse)"
   ]
  },
  {
   "cell_type": "markdown",
   "metadata": {},
   "source": [
    "Normalized data doesn't have p value and therefore no use of hypothesis testing."
   ]
  },
  {
   "cell_type": "code",
   "execution_count": null,
   "metadata": {
    "vscode": {
     "languageId": "r"
    }
   },
   "outputs": [],
   "source": [
    "#normalized_data <- read.xlsx(\"./fwpaper/Normalised_Data.xlsx\", sheetIndex = 1)"
   ]
  },
  {
   "cell_type": "code",
   "execution_count": null,
   "metadata": {
    "vscode": {
     "languageId": "r"
    }
   },
   "outputs": [],
   "source": [
    "#colnames(normalized_data)"
   ]
  },
  {
   "cell_type": "markdown",
   "metadata": {},
   "source": [
    "# Top 20 genes both Upgregulated and Downregulated for each of the following Parameters:"
   ]
  },
  {
   "cell_type": "markdown",
   "metadata": {},
   "source": [
    "## PU vs SC"
   ]
  },
  {
   "cell_type": "code",
   "execution_count": null,
   "metadata": {
    "vscode": {
     "languageId": "r"
    }
   },
   "outputs": [],
   "source": [
    "pu_sc = read.xlsx(\"./fwpaper/DEG(PU_Vs_SC).xlsx\", sheet = 1)\n",
    "dim(pu_sc)\n",
    "colnames(pu_sc)\n",
    "rownames(pu_sc) <- pu_sc$Gene_Symbol"
   ]
  },
  {
   "cell_type": "code",
   "execution_count": null,
   "metadata": {
    "vscode": {
     "languageId": "r"
    }
   },
   "outputs": [],
   "source": [
    "plot <- EnhancedVolcano(pu_sc, lab =rownames(pu_sc), x = 'logFC', y = 'adj.P.Val', labSize = 2, pCutoff = 1, FCcutoff = 0, drawConnectors = TRUE, boxedLabels = TRUE, ylim = c(0,3.5), maxoverlapsConnectors = 100)\n",
    "\n",
    "plot <- plot + theme(text = element_text(size = 8), # Adjust size as needed\n",
    "                     axis.title = element_text(size = 8), # Adjust size as needed\n",
    "                     axis.text = element_text(size = 6), # Adjust size as needed\n",
    "                     legend.text = element_text(size = 6)) # Adjust size as needed\n",
    "\n",
    "# Adjust the aspect ratio\n",
    "plot <- plot + coord_fixed(ratio = 1.5)\n",
    "\n",
    "\n",
    "# Display the plot\n",
    "print(plot)\n",
    "\n",
    "# Save the plot with higher dpi and bigger size\n",
    "ggsave(\"pu_sc.png\", plot = plot, dpi = 1000, width = 10, height = 10)"
   ]
  },
  {
   "cell_type": "markdown",
   "metadata": {
    "vscode": {
     "languageId": "r"
    }
   },
   "source": [
    "# PTX vs SC"
   ]
  },
  {
   "cell_type": "code",
   "execution_count": null,
   "metadata": {
    "vscode": {
     "languageId": "r"
    }
   },
   "outputs": [],
   "source": [
    "ptx_sc = read.xlsx(\"./fwpaper/DEG(PTX_Vs_SC).xlsx\", sheet = 1)\n",
    "rownames(ptx_sc) <- ptx_sc$Gene_Symbol\n"
   ]
  },
  {
   "cell_type": "code",
   "execution_count": null,
   "metadata": {
    "vscode": {
     "languageId": "r"
    }
   },
   "outputs": [],
   "source": [
    "ptx_sc\n"
   ]
  },
  {
   "cell_type": "code",
   "execution_count": null,
   "metadata": {
    "vscode": {
     "languageId": "r"
    }
   },
   "outputs": [],
   "source": [
    "plot <- EnhancedVolcano(ptx_sc, lab =rownames(ptx_sc), x = 'logFC', y = 'adj.P.Val', labSize = 2, pCutoff = 1, FCcutoff = 0, drawConnectors = TRUE, boxedLabels = TRUE, ylim = c(0,3), maxoverlapsConnectors = 100)\n",
    "\n",
    "plot <- plot + theme(text = element_text(size = 8), # Adjust size as needed\n",
    "                     axis.title = element_text(size = 8), # Adjust size as needed\n",
    "                     axis.text = element_text(size = 6), # Adjust size as needed\n",
    "                     legend.text = element_text(size = 6)) # Adjust size as needed\n",
    "\n",
    "# Adjust the aspect ratio\n",
    "plot <- plot + coord_fixed(ratio = 3)\n",
    "\n",
    "\n",
    "# Display the plot\n",
    "print(plot)\n",
    "\n",
    "# Save the plot with higher dpi and bigger size\n",
    "ggsave(\"ptx_sc.png\", plot = plot, dpi = 1000, width = 10, height = 10)"
   ]
  },
  {
   "cell_type": "code",
   "execution_count": null,
   "metadata": {
    "vscode": {
     "languageId": "r"
    }
   },
   "outputs": [],
   "source": [
    "uro_sc = read.xlsx(\"./fwpaper/DEG(Uro_Vs_SC).xlsx\", sheet = 1)\n",
    "\n",
    "rownames(uro_sc) <- uro_sc$Gene_Symbol"
   ]
  },
  {
   "cell_type": "code",
   "execution_count": null,
   "metadata": {
    "vscode": {
     "languageId": "r"
    }
   },
   "outputs": [],
   "source": [
    "plot <- EnhancedVolcano(uro_sc, lab =rownames(uro_sc), x = 'logFC', y = 'adj.P.Val', labSize = 2, pCutoff = 1, FCcutoff = 0, drawConnectors = TRUE, boxedLabels = TRUE, ylim = c(0,3), maxoverlapsConnectors = 100)\n",
    "\n",
    "plot <- plot + theme(text = element_text(size = 8), # Adjust size as needed\n",
    "                     axis.title = element_text(size = 8), # Adjust size as needed\n",
    "                     axis.text = element_text(size = 6), # Adjust size as needed\n",
    "                     legend.text = element_text(size = 6)) # Adjust size as needed\n",
    "\n",
    "# Adjust the aspect ratio\n",
    "plot <- plot + coord_fixed(ratio = 2)\n",
    "\n",
    "\n",
    "# Display the plot\n",
    "print(plot)\n",
    "\n",
    "# Save the plot with higher dpi and bigger size\n",
    "ggsave(\"uro_sc.png\", plot = plot, dpi = 1000, width = 10, height = 10)"
   ]
  }
 ],
 "metadata": {
  "kernelspec": {
   "display_name": "R",
   "language": "R",
   "name": "ir"
  },
  "language_info": {
   "codemirror_mode": "r",
   "file_extension": ".r",
   "mimetype": "text/x-r-source",
   "name": "R",
   "pygments_lexer": "r",
   "version": "4.3.2"
  }
 },
 "nbformat": 4,
 "nbformat_minor": 4
}
